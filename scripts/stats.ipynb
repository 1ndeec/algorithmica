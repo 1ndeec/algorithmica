{
 "cells": [
  {
   "cell_type": "code",
   "execution_count": null,
   "metadata": {},
   "outputs": [],
   "source": [
    "!hugo list all > stats.csv"
   ]
  },
  {
   "cell_type": "code",
   "execution_count": 1,
   "metadata": {},
   "outputs": [],
   "source": [
    "import pandas as pd"
   ]
  },
  {
   "cell_type": "code",
   "execution_count": 2,
   "metadata": {},
   "outputs": [],
   "source": [
    "df = pd.read_csv('stats.csv')"
   ]
  },
  {
   "cell_type": "code",
   "execution_count": 21,
   "metadata": {},
   "outputs": [],
   "source": [
    "#import frontmatter\n",
    "#import io\n",
    "import yaml\n",
    "\n",
    "from collections import defaultdict\n",
    "\n",
    "authors = defaultdict(list)\n",
    "\n",
    "for _, row in df.iterrows():\n",
    "    #print(row.path, row.title, row.draft)\n",
    "    with open(row.path, 'r') as f:\n",
    "        try:\n",
    "            for doc in yaml.safe_load_all(f):\n",
    "                #print(doc)\n",
    "                if 'authors' in doc:\n",
    "                    for author in doc['authors']:\n",
    "                        authors[author].append((row.path, row.title, row.draft))\n",
    "        except:\n",
    "            pass"
   ]
  },
  {
   "cell_type": "code",
   "execution_count": 25,
   "metadata": {},
   "outputs": [
    {
     "name": "stdout",
     "output_type": "stream",
     "text": [
      "Сергей Слотин:\n",
      "content/russian/cs/programming/cpp.md\n",
      "Ликбез по C++\n",
      "content/russian/cs/arithmetic/floating-point.md\n",
      "Вещественные числа\n",
      "content/russian/cs/general-dynamic/sequences.md\n",
      "Динамика по подпоследовательностям\n",
      "content/russian/cs/basic-structures/stack.md\n",
      "Стек\n",
      "content/russian/cs/sorting/lower-bound.md\n",
      "Необходимое число сравнений для сортировки\n",
      "content/russian/cs/interactive/convex-functions.md\n",
      "Выпуклые функции\n",
      "Максим Иванов:\n",
      "content/russian/cs/interactive/ternary-search.md\n",
      "Тернарный поиск\n",
      "content/russian/cs/general-dynamic/sequences.md\n",
      "Динамика по подпоследовательностям\n",
      "content/russian/cs/combinatorial-objects/bracket-sequences.md\n",
      "Правильные скобочные последовательности\n",
      "content/russian/cs/shortest-paths/ford-bellman.md\n",
      "Алгоритм Форда-Беллмана\n",
      "content/russian/cs/arithmetic/big-integer.md\n",
      "Длинная арифметика\n",
      "content/russian/cs/factorization/primality-testing.md\n",
      "Тестирование на простоту\n",
      "content/russian/cs/shortest-paths/negative-cycle.md\n",
      "Нахождение отрицательного цикла\n",
      "content/russian/cs/games/sprague-grundy.md\n",
      "Теория Шпрага-Гранди\n",
      "content/russian/cs/combinatorial-objects/prufer.md\n",
      "Код Прюфера\n",
      "content/russian/cs/trees/tarjan.md\n",
      "Алгоритм Тарьяна\n",
      "content/russian/cs/flows/dinic.md\n",
      "Алгоритм Диница\n",
      "content/russian/cs/flows/ford-fulkerson.md\n",
      "Алгоритм Форда-Фалкерсона\n",
      "content/russian/cs/modular/discrete-root.md\n",
      "Дискретное извлечение корня\n",
      "content/russian/cs/modular/discrete-log.md\n",
      "Дискретное логарифмирование\n",
      "content/russian/cs/spanning-trees/kirchoff.md\n",
      "Матричная теорема Кирхгофа\n",
      "content/russian/cs/basic-structures/stack-minima.md\n",
      "Модификация стека и очереди для нахождения минимума\n",
      "content/russian/cs/spanning-trees/bridges-online.md\n",
      "Онлайн поиск мостов\n",
      "content/russian/cs/modular/primitive-root.md\n",
      "Первообразные корни\n",
      "content/russian/cs/sequences/max-avg-segment.md\n",
      "Поиск подотрезка массива с максимальной суммой\n",
      "Андрей Гаркавый:\n",
      "content/russian/cs/basic-structures/stack.md\n",
      "Стек\n",
      "Константин Амеличев:\n",
      "content/russian/cs/range-queries/disjoint-sparse-table.md\n",
      "Disjoint Sparse Table\n",
      "Глеб Лобанов:\n",
      "content/russian/cs/general-dynamic/sequences.md\n",
      "Динамика по подпоследовательностям\n",
      "Даниил Николенко:\n",
      "content/russian/cs/programming/cpp.md\n",
      "Ликбез по C++\n",
      "[Егор Горбачев](https://www.youtube.com/watch?v=5iW84xlL0j0):\n",
      "Александр Гришутин:\n",
      "content/russian/cs/set-structures/hash-table.md\n",
      "Хеш-таблица\n",
      "Станислав Алексеев:\n",
      "[Максим Иванов](https://e-maxx.ru/algo/bfs):\n",
      "Александр Кульков:\n",
      "content/russian/cs/string-structures/automaton.md\n",
      "Суффиксный автомат\n",
      "Иван Сафонов:\n",
      "content/russian/cs/modular/modulo-optimization.md\n",
      "Оптимизация операций по модулю\n",
      "Григорий Горюнов:\n",
      "content/russian/cs/segment-tree/bottom-up.md\n",
      "Реализация операций «снизу»\n",
      "[Александр Бачериков](https://codeforces.com/blog/entry/18051):\n",
      "content/russian/cs/segment-tree/bottom-up.md\n",
      "Реализация операций «снизу»\n",
      "Полина Романченко:\n",
      "Максим Деб Натх:\n",
      "content/russian/cs/string-searching/tandem-repeats.md\n",
      "Тандемные повторы\n",
      "Денис Акилов:\n",
      "Филипп Грибов:\n",
      "content/russian/cs/graph-traversals/dominators.md\n",
      "Дерево доминаторов\n"
     ]
    }
   ],
   "source": [
    "for author, articles in authors.items():\n",
    "    print(f'{author}:')\n",
    "    \n",
    "    for article in filter(lambda x: x[2], articles):\n",
    "        print('-', article[1])\n",
    "        print('-', article[0])"
   ]
  }
 ],
 "metadata": {
  "interpreter": {
   "hash": "e7370f93d1d0cde622a1f8e1c04877d8463912d04d973331ad4851f04de6915a"
  },
  "kernelspec": {
   "display_name": "Python 3.8.10 64-bit",
   "language": "python",
   "name": "python3"
  },
  "language_info": {
   "codemirror_mode": {
    "name": "ipython",
    "version": 3
   },
   "file_extension": ".py",
   "mimetype": "text/x-python",
   "name": "python",
   "nbconvert_exporter": "python",
   "pygments_lexer": "ipython3",
   "version": "3.8.10"
  },
  "orig_nbformat": 4
 },
 "nbformat": 4,
 "nbformat_minor": 2
}
